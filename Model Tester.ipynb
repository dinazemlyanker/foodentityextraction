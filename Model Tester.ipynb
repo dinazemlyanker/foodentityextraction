{
 "cells": [
  {
   "cell_type": "markdown",
   "id": "c7eed2c1",
   "metadata": {},
   "source": [
    "# Model Tester (v1.1)\n",
    "Before you run any code here, make sure that you put the following commands into a new terminal within the Binder instance. This must be done *once* per Binder instance:\n",
    "*pip install spacy*\n",
    "*python -m spacy download en_core_web_lg*\n",
    "*pip install wget*\n",
    "\n",
    "After that, everything in here should work."
   ]
  },
  {
   "cell_type": "code",
   "execution_count": null,
   "id": "24ad4960-0d8e-4c17-928f-b33237d331d0",
   "metadata": {},
   "outputs": [],
   "source": [
    "# Import libraries:\n",
    "import os\n",
    "import pickle\n",
    "import spacy\n",
    "from thinc.api import Config\n",
    "from spacy import Language\n",
    "from spacy.lang.en import English\n",
    "import sys\n",
    "import en_core_web_lg\n",
    "import wget\n",
    "# Build the model. We only do this once per Binder instance.\n",
    "\n",
    "os.environ[\"KMP_DUPLICATE_LIB_OK\"]=\"TRUE\"\n",
    "url = \"https://mediacloud-ihop.s3.amazonaws.com/models/spacy_model.p\"\n",
    "take1 = wget.download(url)\n",
    "with open(\"spacy_model.p\", \"rb\") as h:\n",
    "\ttake = pickle.load(h)\n",
    "config = Config().from_disk(\"./config.cfg\")\n",
    "lang_cls = spacy.util.get_lang_class(config[\"nlp\"][\"lang\"])\n",
    "nlp = lang_cls.from_config(config)\n",
    "nlp = nlp.from_bytes(take)\n",
    "# The model should now be a file named \"spacy_model.p\" in the nav pane. This will NOT be in the Github."
   ]
  },
  {
   "cell_type": "code",
   "execution_count": null,
   "id": "4962d611-3103-4ff7-8611-163f8a56127b",
   "metadata": {},
   "outputs": [],
   "source": [
    "# Here is a set of code for you to test everything out on your own; a personal sandbox!\n",
    "doc = nlp(\"bacon egg and cheese sandwich\")\n",
    "for token in doc:\n",
    "\tprint(token.text, token.pos_)\n",
    "for chunk in doc.noun_chunks:\n",
    "\tprint(chunk.text, chunk.root.text)\n",
    "for ents in doc.ents:\n",
    "\tprint(ents.text, ents.label_)"
   ]
  },
  {
   "cell_type": "code",
   "execution_count": 7,
   "id": "1adee444-e884-4c59-85b2-f9f7e07c478e",
   "metadata": {},
   "outputs": [
    {
     "name": "stdout",
     "output_type": "stream",
     "text": [
      "Computer tags:\n",
      "[]\n",
      "Correct answer:\n",
      "[]\n",
      "Computer tags:\n",
      "[]\n",
      "Correct answer:\n",
      "[]\n",
      "Computer tags:\n",
      "['bacon', 'cheeseburger', 'onion', 'tomato', 'salsa', 'lemon', 'juice']\n",
      "Correct answer:\n",
      "['bacon', 'cheeseburger', 'lettuce', 'onion', 'tomato', 'salsa', 'lemon juice']\n",
      "Computer tags:\n",
      "['pepper', 'seasoning']\n",
      "Correct answer:\n",
      "['red pepper flakes', 'seasoning']\n",
      "Computer tags:\n",
      "['egg', 'eggs']\n",
      "Correct answer:\n",
      "['egg', 'egg', 'millefeuille']\n"
     ]
    }
   ],
   "source": [
    "# Testing random sentences.\n",
    "testsentences = ['', \n",
    "                 'get your car insurance at 50% average rates today by calling 334-808-1992', \n",
    "                 'today i ate a bacon cheeseburger with lettuce, onion and tomato. the salsa added to the top was too runny, so i would add some lemon juice on top.', \n",
    "                 'red pepper flakes are a great seasoning to add to many dishes.', \n",
    "                 'just one egg is fine, but i think two eggs will help the millefeuille maintain structure'\n",
    "                ]\n",
    "testanswers = [[], \n",
    "               [], \n",
    "               ['bacon', 'cheeseburger', 'lettuce', 'onion', 'tomato', 'salsa', 'lemon juice'], \n",
    "               ['red pepper flakes', 'seasoning'], \n",
    "               ['egg', 'egg', 'millefeuille']\n",
    "              ]\n",
    "counter = 0\n",
    "for sentence in testsentences:\n",
    "    doc = nlp(sentence)\n",
    "    nlp_answers = []\n",
    "    print(\"Computer tags:\")\n",
    "    for ents in doc.ents:\n",
    "        nlp_answers.append(ents.text)\n",
    "    print(nlp_answers)\n",
    "    print(\"Correct answer:\")\n",
    "    print(testanswers[counter])\n",
    "    counter += 1\n",
    "    "
   ]
  },
  {
   "cell_type": "code",
   "execution_count": null,
   "id": "1486bc86-c0a3-4d7a-a609-07c10501407a",
   "metadata": {},
   "outputs": [],
   "source": [
    "# TO ADD: storyjson files to test. \n",
    "storyjsons = [e443c33f56c338bc50653946ce88460b, \n",
    "5316376137984291a684487b1ff7b68f, \n",
    "fa262c03a3f536e5165fc0e9cd061b64, \n",
    "c332838cb3ab544ce16aaaf0d30d1587, \n",
    "a94ef4308e8cae75766fea73531918c1, \n",
    "0cf67eb7f52cd235509b530bf7c3ea9b, \n",
    "c3aeef89e389f90bb137f28204861b49, \n",
    "7e3345fe9fad3a161ac8aa11fa214831, \n",
    "ff401e9686de3bec35052aa33a8382c5, \n",
    "0b12807f55062696086ad3831211c284, \n",
    "613aa03ee246323cd6ffcc4ea03e68cc, \n",
    "a5d7a468b900da50f787f11e10673224, \n",
    "f3d1c80cb0263594aadf4903d4ff448b, \n",
    "ca6f92e3a1f112f6714cfa69bbe90cd0, \n",
    "0acff7d82116e5c0f1b3eb1b6b5bade8, \n",
    "703a2a8217ed493e0ae29b81386aa9b4, \n",
    "b0d7baca212c60b884de5ccdb5025b28, \n",
    "c3f04ed913c48f33238d9764c3817cfb, \n",
    "cc834cc2d8291bcc4811387dfc810c94, \n",
    "a5b2c77925de0529df3fcfce06c75243, \n",
    "f83238aabbb6f29fc5f33b48bbf3efde, \n",
    "a85cbd99b2dba1cd1dbc31b46952ac76, \n",
    "239d90cb32a74d64daf8952cafca791d, \n",
    "3db89c985c314dbdc4bc6244e2bd4e01, \n",
    "7a2421f687bf90732cf4ba727ab6b09b]\n"
   ]
  }
 ],
 "metadata": {
  "kernelspec": {
   "display_name": "Python 3",
   "language": "python",
   "name": "python3"
  },
  "language_info": {
   "codemirror_mode": {
    "name": "ipython",
    "version": 3
   },
   "file_extension": ".py",
   "mimetype": "text/x-python",
   "name": "python",
   "nbconvert_exporter": "python",
   "pygments_lexer": "ipython3",
   "version": "3.8.8"
  }
 },
 "nbformat": 4,
 "nbformat_minor": 5
}
