{
 "cells": [
  {
   "cell_type": "code",
   "execution_count": null,
   "id": "24ad4960-0d8e-4c17-928f-b33237d331d0",
   "metadata": {},
   "outputs": [],
   "source": [
    "import os\n",
    "import pickle\n",
    "import spacy\n",
    "from thinc.api import Config\n",
    "from spacy import Language\n",
    "from spacy.lang.en import English\n",
    "import sys\n",
    "import en_core_web_lg\n",
    "import wget\n",
    "# Build the model. We only do this once per Binder instance.\n",
    "\n",
    "os.environ[\"KMP_DUPLICATE_LIB_OK\"]=\"TRUE\"\n",
    "url = \"https://mediacloud-ihop.s3.amazonaws.com/models/spacy_model.p\"\n",
    "take1 = wget.download(url)\n",
    "with open(\"spacy_model.p\", \"rb\") as h:\n",
    "\ttake = pickle.load(h)\n",
    "config = Config().from_disk(\"./config.cfg\")\n",
    "lang_cls = spacy.util.get_lang_class(config[\"nlp\"][\"lang\"])\n",
    "nlp = lang_cls.from_config(config)\n",
    "nlp = nlp.from_bytes(take)\n",
    "# The model should now be a file named \"spacy_model.p\" in the nav pane. This will NOT be in the Github."
   ]
  },
  {
   "cell_type": "code",
   "execution_count": null,
   "id": "4962d611-3103-4ff7-8611-163f8a56127b",
   "metadata": {},
   "outputs": [],
   "source": [
    "# Here is a set of code for you to test everything out on your own; a personal sandbox!\n",
    "doc = nlp(\"bacon egg and cheese sandwich\")\n",
    "for token in doc:\n",
    "\tprint(token.text, token.pos_)\n",
    "for chunk in doc.noun_chunks:\n",
    "\tprint(chunk.text, chunk.root.text)\n",
    "for ents in doc.ents:\n",
    "\tprint(ents.text, ents.label_)"
   ]
  },
  {
   "cell_type": "code",
   "execution_count": 7,
   "id": "1adee444-e884-4c59-85b2-f9f7e07c478e",
   "metadata": {},
   "outputs": [
    {
     "name": "stdout",
     "output_type": "stream",
     "text": [
      "Computer tags:\n",
      "[]\n",
      "Correct answer:\n",
      "[]\n",
      "Computer tags:\n",
      "[]\n",
      "Correct answer:\n",
      "[]\n",
      "Computer tags:\n",
      "['bacon', 'cheeseburger', 'onion', 'tomato', 'salsa', 'lemon', 'juice']\n",
      "Correct answer:\n",
      "['bacon', 'cheeseburger', 'lettuce', 'onion', 'tomato', 'salsa', 'lemon juice']\n",
      "Computer tags:\n",
      "['pepper', 'seasoning']\n",
      "Correct answer:\n",
      "['red pepper flakes', 'seasoning']\n",
      "Computer tags:\n",
      "['egg', 'eggs']\n",
      "Correct answer:\n",
      "['egg', 'egg', 'millefeuille']\n"
     ]
    }
   ],
   "source": [
    "# Testing random sentences.\n",
    "testsentences = ['', \n",
    "                 'get your car insurance at 50% average rates today by calling 334-808-1992', \n",
    "                 'today i ate a bacon cheeseburger with lettuce, onion and tomato. the salsa added to the top was too runny, so i would add some lemon juice on top.', \n",
    "                 'red pepper flakes are a great seasoning to add to many dishes.', \n",
    "                 'just one egg is fine, but i think two eggs will help the millefeuille maintain structure'\n",
    "                ]\n",
    "testanswers = [[], \n",
    "               [], \n",
    "               ['bacon', 'cheeseburger', 'lettuce', 'onion', 'tomato', 'salsa', 'lemon juice'], \n",
    "               ['red pepper flakes', 'seasoning'], \n",
    "               ['egg', 'egg', 'millefeuille']\n",
    "              ]\n",
    "counter = 0\n",
    "for sentence in testsentences:\n",
    "    doc = nlp(sentence)\n",
    "    nlp_answers = []\n",
    "    print(\"Computer tags:\")\n",
    "    for ents in doc.ents:\n",
    "        nlp_answers.append(ents.text)\n",
    "    print(nlp_answers)\n",
    "    print(\"Correct answer:\")\n",
    "    print(testanswers[counter])\n",
    "    counter += 1\n",
    "    "
   ]
  },
  {
   "cell_type": "code",
   "execution_count": null,
   "id": "1486bc86-c0a3-4d7a-a609-07c10501407a",
   "metadata": {},
   "outputs": [],
   "source": []
  }
 ],
 "metadata": {
  "kernelspec": {
   "display_name": "Python 3",
   "language": "python",
   "name": "python3"
  },
  "language_info": {
   "codemirror_mode": {
    "name": "ipython",
    "version": 3
   },
   "file_extension": ".py",
   "mimetype": "text/x-python",
   "name": "python",
   "nbconvert_exporter": "python",
   "pygments_lexer": "ipython3",
   "version": "3.8.8"
  }
 },
 "nbformat": 4,
 "nbformat_minor": 5
}
